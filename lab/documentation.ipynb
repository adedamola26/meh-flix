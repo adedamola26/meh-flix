{
 "cells": [
  {
   "cell_type": "markdown",
   "metadata": {},
   "source": [
    "# Movie Recommender System"
   ]
  },
  {
   "cell_type": "markdown",
   "metadata": {},
   "source": [
    "A recommender system is a type of information filtering system that suggests items that are most relevant to a particular user."
   ]
  },
  {
   "cell_type": "markdown",
   "metadata": {},
   "source": [
    "**Business Problem**"
   ]
  },
  {
   "cell_type": "markdown",
   "metadata": {},
   "source": [
    "In today's world, we are constantly bombarded with an overwhelming amount of options. This can cause decision paralysis for customers and lead to minimal sales, engagement or whatever a business's KPI may be.\n",
    "\n",
    "A recommender systems helps users to sift through the vast sea of options at their disposal to find what's most relevant or interesting to them. This not only saves time for users but also increases businesses' KPI."
   ]
  },
  {
   "cell_type": "markdown",
   "metadata": {},
   "source": [
    "**Types**"
   ]
  },
  {
   "cell_type": "markdown",
   "metadata": {},
   "source": [
    "Moving on from the old, simple and less-effective recommendation techniques like _Top 10 items_, _Most Popular items_, _Recent Uploads_, etc., the modern recommendation techniques that big players (like Amazon and Netflix) employ are:\n",
    "- Collaborative filtering  \n",
    "- Content-based"
   ]
  },
  {
   "cell_type": "markdown",
   "metadata": {},
   "source": [
    "**Collaborative filtering** \n",
    "\n",
    "Collaborative filtering relies on user/item ratings comes in two forms:\n",
    "- User based (uB)\n",
    "- Item based (iB)\n",
    "\n",
    "In layman’s terms: \n",
    "In uB, the algorithm groups users into clusters with each cluster consisting of users with similar tastes. For a specific user, the uB algorithm recommends items that they’re yet to consume but many of their cluster neighbours have rated highly.\n",
    "\n",
    "Similarly, in iB, the algorithm groups items into clusters with each cluster consisting of similar items. For a specific user, the algorithm recommends unfamiliar items that they’re yet to consume but have shown a preference for that item’s cluster neighbours.\n",
    "\n",
    "To perform well, both collaborative filtering techniques rely heavily on users having a record of item preferences and/or items having a record of users who have shown preference.\n",
    "\n",
    "The collaborative filtering technique, though effective, comes with downsides one of which is the cold start (new item/new user) problem.\n",
    "\n"
   ]
  }
 ],
 "metadata": {
  "kernelspec": {
   "display_name": "base",
   "language": "python",
   "name": "python3"
  },
  "language_info": {
   "codemirror_mode": {
    "name": "ipython",
    "version": 3
   },
   "file_extension": ".py",
   "mimetype": "text/x-python",
   "name": "python",
   "nbconvert_exporter": "python",
   "pygments_lexer": "ipython3",
   "version": "3.11.5"
  }
 },
 "nbformat": 4,
 "nbformat_minor": 2
}
